{
 "cells": [
  {
   "cell_type": "markdown",
   "metadata": {},
   "source": [
    "## Imports ##"
   ]
  },
  {
   "cell_type": "code",
   "execution_count": 6,
   "metadata": {},
   "outputs": [
    {
     "name": "stderr",
     "output_type": "stream",
     "text": [
      "/home/lcornelis/anaconda3/envs/proteo/lib/python3.11/site-packages/torch_geometric/typing.py:155: UserWarning: An issue occurred while importing 'torch-spline-conv'. Disabling its usage. Stacktrace: /home/lcornelis/anaconda3/envs/proteo/lib/python3.11/site-packages/torch_spline_conv/_version_cuda.so: undefined symbol: _ZN3c1017RegisterOperatorsD1Ev\n",
      "  warnings.warn(\n"
     ]
    }
   ],
   "source": [
    "import re\n",
    "from pathlib import Path\n",
    "from itertools import product\n",
    "from topobench.nn.backbones.graph.gat_v4 import GATv4\n",
    "from topobench.nn.readouts.ftd_readout import FTDReadOut\n",
    "from topobench.nn.encoders.all_cell_encoder import AllCellFeatureEncoder\n",
    "from torch_geometric.nn import GAT, GCN, global_mean_pool\n",
    "import yaml\n",
    "import hydra\n",
    "from hydra import compose, initialize\n",
    "from hydra.utils import instantiate\n",
    "from topobench.utils.config_resolvers import (\n",
    "    get_default_transform,\n",
    "    get_monitor_metric,\n",
    "    get_monitor_mode,\n",
    "    infer_in_channels,\n",
    "    infer_num_cell_dimensions,\n",
    "    get_flattened_feature_matrix_dim,\n",
    "    \n",
    ")\n",
    "from hydra.core.global_hydra import GlobalHydra  \n"
   ]
  },
  {
   "cell_type": "markdown",
   "metadata": {},
   "source": [
    "# Getting Number of runs per experiment #"
   ]
  },
  {
   "cell_type": "code",
   "execution_count": 4,
   "metadata": {},
   "outputs": [],
   "source": [
    "\n",
    "def count_runs_in_block(lines):\n",
    "    params = {}\n",
    "    for line in lines:\n",
    "        if \"=\" not in line or line.strip().startswith(\"python\") or \"--multirun\" in line or line.strip().endswith(\"&\"):\n",
    "            continue\n",
    "        key, val = line.split(\"=\", 1)\n",
    "        key = key.strip()\n",
    "        val = val.strip().strip(\"\\\\\")\n",
    "        \n",
    "        # Special case: multiple escaped bracketed items (e.g. \\[...\\],\\[...\\],...)\n",
    "        if \"\\\\[\" in val and \"\\\\]\" in val:\n",
    "            # Find all escaped bracketed expressions\n",
    "            matches = re.findall(r'(\\[.*?\\\\\\])', val)\n",
    "            cleaned = [m.replace(\"\\\\\", \"\") for m in matches]\n",
    "            params[key] = cleaned\n",
    "        elif \",\" in val:\n",
    "            params[key] = val.split(\",\")\n",
    "        else:\n",
    "            params[key] = [val]\n",
    "    # Cartesian product of all parameter options\n",
    "    total = 1\n",
    "    for v in params.values():\n",
    "        total *= len(v)\n",
    "    return total\n",
    "\n",
    "\n",
    "def parse_hydra_sh(filepath):\n",
    "    with open(filepath, \"r\") as f:\n",
    "        lines = [line.strip() for line in f.readlines()]\n",
    "    \n",
    "    blocks = []\n",
    "    current = []\n",
    "    for line in lines:\n",
    "        if line.startswith(\"python -m\"):\n",
    "            if current:\n",
    "                blocks.append(current)\n",
    "                current = []\n",
    "        current.append(line)\n",
    "    if current:\n",
    "        blocks.append(current)\n",
    "\n",
    "    results = []\n",
    "    for i, block in enumerate(blocks):\n",
    "        run_count = count_runs_in_block(block)\n",
    "        results.append((i + 1, run_count))\n",
    "    \n",
    "    for block_num, count in results:\n",
    "        print(f\"Block {block_num}: {count} runs\")\n",
    "    print(f\"Total: {sum(count for _, count in results)} runs\")\n",
    "    return results"
   ]
  },
  {
   "cell_type": "code",
   "execution_count": 5,
   "metadata": {},
   "outputs": [
    {
     "name": "stdout",
     "output_type": "stream",
     "text": [
      "Block 1: 11520 runs\n",
      "Block 2: 11520 runs\n",
      "Block 3: 11520 runs\n",
      "Block 4: 11520 runs\n",
      "Block 5: 11520 runs\n",
      "Block 6: 11520 runs\n",
      "Block 7: 720 runs\n",
      "Block 8: 720 runs\n",
      "Total: 70560 runs\n"
     ]
    }
   ],
   "source": [
    "results = parse_hydra_sh(\"/home/lcornelis/code/TopoProteo/topoproteo_experiments.sh\") \n"
   ]
  },
  {
   "cell_type": "markdown",
   "metadata": {},
   "source": [
    "# Getting Number of Parameters Per Model #"
   ]
  },
  {
   "cell_type": "code",
   "execution_count": 87,
   "metadata": {},
   "outputs": [],
   "source": [
    "gat_v4_hidden_channels= [[8, 16], [64, 128]]\n",
    "gat_v4_heads= [[2, 2], [4, 4]]\n",
    "fc_out_channels_gatv4 = [1,8]\n",
    "\n",
    "# gat_num_layers= [2, 4]  # only for GAT and GCN\n",
    "# gat_hidden_channels= [8, 16]\n",
    "# gat_heads= [2, 4]\n",
    "# fc_out_channels_gat = [8,16]\n",
    "\n",
    "gat_num_layers = [2]                     # Fix to 2\n",
    "gat_hidden_channels = [4, 8]             # Lower than before\n",
    "gat_heads = [2]                          # Avoid high head count\n",
    "fc_out_channels_gat = [4]   \n",
    "\n",
    "# gcn_num_layers= [2, 4] \n",
    "# gcn_hidden_channels= [8, 16]\n",
    "# fc_out_channels_gcn = [8,16]\n",
    "\n",
    "gcn_num_layers = [2]\n",
    "gcn_hidden_channels = [4]\n",
    "fc_out_channels_gcn = [4] \n",
    "fc_dims= [128,64,32],[256,128,64]\n",
    "graph_encoder_dims= 256, 128\n",
    "\n",
    "readout_graph_encoder_dims = [512,256],[256,128] #[512,256,128]\n",
    "readout_fc_dims= [128,64,32], [512,512,256,128], [1024, 1024,512,256],\n",
    "readout_fc_acts = ['relu', 'tanh']\n"
   ]
  },
  {
   "cell_type": "code",
   "execution_count": 70,
   "metadata": {},
   "outputs": [
    {
     "name": "stderr",
     "output_type": "stream",
     "text": [
      "/tmp/ipykernel_2544725/2271233435.py:4: UserWarning: \n",
      "The version_base parameter is not specified.\n",
      "Please specify a compatability version level, or None.\n",
      "Will assume defaults for version 1.1\n",
      "  initialize(config_path=\"../TopoProteo/configs\", job_name=\"job\")\n"
     ]
    }
   ],
   "source": [
    "if GlobalHydra().is_initialized():\n",
    "    GlobalHydra().clear()\n",
    "\n",
    "initialize(config_path=\"../TopoProteo/configs\", job_name=\"job\")\n",
    "\n",
    "def load_config_and_model(model_name, hidden_channels, heads, out_channels, fc_dim, graph_encoder_dim):\n",
    "    cfg = compose(\n",
    "            config_name=\"run.yaml\",\n",
    "            overrides=[\n",
    "                f\"model={model_name}\",\n",
    "                f\"dataset=graph/FTD\",\n",
    "\n",
    "                # Feature Encoder\n",
    "                f\"model.feature_encoder.out_channels={out_channels}\",\n",
    "\n",
    "                # Backbone\n",
    "                f\"model.backbone.hidden_channels={hidden_channels}\",\n",
    "                f\"model.backbone.heads={heads}\",\n",
    "\n",
    "                # Readout\n",
    "                f\"model.readout.fc_dim={fc_dim}\",\n",
    "                f\"model.readout.graph_encoder_dim={graph_encoder_dim}\",\n",
    "                # f\"model.readout.fc_act={fc_act}\",\n",
    "            ],\n",
    "            return_hydra_config=True\n",
    "        )\n",
    "    model = hydra.utils.instantiate(\n",
    "                cfg.model,\n",
    "                evaluator=cfg.evaluator,\n",
    "                optimizer=cfg.optimizer,\n",
    "                loss=cfg.loss,\n",
    "            )\n",
    "    return model \n"
   ]
  },
  {
   "cell_type": "markdown",
   "metadata": {},
   "source": [
    "## GAT-v4 ##"
   ]
  },
  {
   "cell_type": "code",
   "execution_count": 71,
   "metadata": {},
   "outputs": [
    {
     "name": "stdout",
     "output_type": "stream",
     "text": [
      "Max number of parameters:  6053558\n",
      "Min number of parameters:  2876637\n",
      "Total configurations tested:  32\n"
     ]
    }
   ],
   "source": [
    "total_params_list_combined = []\n",
    "\n",
    "# Iterate over GATv4-specific parameter combinations\n",
    "for feature_encoder_out_channels in fc_out_channels_gatv4:\n",
    "    for hidden_channels in gat_v4_hidden_channels:\n",
    "        for heads in gat_v4_heads:\n",
    "            for fc_dim in fc_dims:\n",
    "                for graph_encoder_dim in graph_encoder_dims:\n",
    "                    try:\n",
    "                        # Load model with current config\n",
    "                        model = load_config_and_model(\n",
    "                            model_name=\"graph/gatv4\",\n",
    "                            hidden_channels=hidden_channels,\n",
    "                            heads=heads,\n",
    "                            out_channels=feature_encoder_out_channels,\n",
    "                            fc_dim=fc_dim,\n",
    "                            graph_encoder_dim=graph_encoder_dim,\n",
    "                        )\n",
    "                        # Count parameters\n",
    "                        total_params = sum(p.numel() for p in model.parameters())\n",
    "                        total_params_list_combined.append(total_params)\n",
    "\n",
    "                    except Exception as e:\n",
    "                        print(f\"⚠️ Skipped combo due to error: {e}\")\n",
    "                        continue\n",
    "\n",
    "# Summary\n",
    "print(\"Max number of parameters: \", max(total_params_list_combined))\n",
    "print(\"Min number of parameters: \", min(total_params_list_combined))\n",
    "print(\"Total configurations tested: \", len(total_params_list_combined))"
   ]
  },
  {
   "cell_type": "markdown",
   "metadata": {},
   "source": [
    "## GAT ##"
   ]
  },
  {
   "cell_type": "code",
   "execution_count": 72,
   "metadata": {},
   "outputs": [],
   "source": [
    "def load_config_and_model_gat(model_name, hidden_channels, heads, out_channels, num_layers, fc_dim, graph_encoder_dim):\n",
    "    cfg = compose(\n",
    "        config_name=\"run.yaml\",\n",
    "        overrides=[\n",
    "            f\"model={model_name}\",\n",
    "            f\"dataset=graph/FTD\",\n",
    "\n",
    "            # Feature Encoder\n",
    "            f\"model.feature_encoder.out_channels={out_channels}\",\n",
    "\n",
    "            # Backbone (GAT-specific)\n",
    "            f\"model.backbone.hidden_channels={hidden_channels}\",\n",
    "            f\"model.backbone.heads={heads}\",\n",
    "            f\"model.backbone.num_layers={num_layers}\",\n",
    "            # Readout\n",
    "            f\"model.readout.fc_dim={fc_dim}\",\n",
    "            f\"model.readout.graph_encoder_dim={graph_encoder_dim}\",\n",
    "            # f\"model.readout.fc_act={fc_act}\",\n",
    "        ],\n",
    "        return_hydra_config=True\n",
    "    )\n",
    "    model = hydra.utils.instantiate(\n",
    "        cfg.model,\n",
    "        evaluator=cfg.evaluator,\n",
    "        optimizer=cfg.optimizer,\n",
    "        loss=cfg.loss,\n",
    "    )\n",
    "    return model"
   ]
  },
  {
   "cell_type": "code",
   "execution_count": 73,
   "metadata": {},
   "outputs": [
    {
     "name": "stdout",
     "output_type": "stream",
     "text": [
      "Max number of parameters: 7618074\n",
      "Min number of parameters: 3796986\n",
      "Total configurations tested: 8\n"
     ]
    }
   ],
   "source": [
    "total_params_list_combined = []\n",
    "\n",
    "# Iterate over GAT parameter combinations\n",
    "for feature_encoder_out_channels in fc_out_channels_gat:\n",
    "    for num_layers in gat_num_layers:\n",
    "        for hidden_channels in gat_hidden_channels:\n",
    "            for heads in gat_heads:\n",
    "                for fc_dim in fc_dims:\n",
    "                    for graph_encoder_dim in graph_encoder_dims:\n",
    "                        try:\n",
    "                            model = load_config_and_model_gat(\n",
    "                                model_name=\"graph/gat\",\n",
    "                                hidden_channels=hidden_channels,\n",
    "                                heads=heads,\n",
    "                                out_channels=feature_encoder_out_channels,\n",
    "                                num_layers=num_layers,\n",
    "                                fc_dim=fc_dim,\n",
    "                                graph_encoder_dim=graph_encoder_dim,\n",
    "                            )\n",
    "                            total_params = sum(p.numel() for p in model.parameters())\n",
    "                            total_params_list_combined.append(total_params)\n",
    "                        except Exception as e:\n",
    "                            print(f\"⚠️ Skipped combo due to error: {e}\")\n",
    "                            continue\n",
    "\n",
    "# Summary\n",
    "print(\"Max number of parameters:\", max(total_params_list_combined))\n",
    "print(\"Min number of parameters:\", min(total_params_list_combined))\n",
    "print(\"Total configurations tested:\", len(total_params_list_combined))\n"
   ]
  },
  {
   "cell_type": "markdown",
   "metadata": {},
   "source": [
    "## GCN ##"
   ]
  },
  {
   "cell_type": "code",
   "execution_count": 88,
   "metadata": {},
   "outputs": [],
   "source": [
    "def load_config_and_model_gcn(model_name, num_layers, hidden_channels, out_channels, fc_dim, graph_encoder_dim):\n",
    "    cfg = compose(\n",
    "        config_name=\"run.yaml\",\n",
    "        overrides=[\n",
    "            f\"model={model_name}\",\n",
    "            f\"dataset=graph/FTD\",\n",
    "\n",
    "            # Feature Encoder\n",
    "            f\"model.feature_encoder.out_channels={out_channels}\",\n",
    "\n",
    "            # Backbone (GCN-specific)\n",
    "            f\"model.backbone.num_layers={num_layers}\",\n",
    "            f\"model.backbone.hidden_channels={hidden_channels}\",\n",
    "\n",
    "            # Readout\n",
    "            f\"model.readout.fc_dim={fc_dim}\",\n",
    "            f\"model.readout.graph_encoder_dim={graph_encoder_dim}\",\n",
    "            # f\"model.readout.fc_act={fc_act}\",\n",
    "        ],\n",
    "        return_hydra_config=True\n",
    "    )\n",
    "    model = hydra.utils.instantiate(\n",
    "        cfg.model,\n",
    "        evaluator=cfg.evaluator,\n",
    "        optimizer=cfg.optimizer,\n",
    "        loss=cfg.loss,\n",
    "    )\n",
    "    return model"
   ]
  },
  {
   "cell_type": "code",
   "execution_count": 89,
   "metadata": {},
   "outputs": [
    {
     "name": "stdout",
     "output_type": "stream",
     "text": [
      "4\n",
      "4\n",
      "4\n",
      "4\n",
      "Max number of parameters: 7617858\n",
      "Min number of parameters: 3796930\n",
      "Total configurations tested: 4\n"
     ]
    }
   ],
   "source": [
    "total_params_list_combined = []\n",
    "\n",
    "for out_channels in fc_out_channels_gcn:\n",
    "    for num_layers in gcn_num_layers:\n",
    "        for hidden_channels in gcn_hidden_channels:\n",
    "            for fc_dim in fc_dims:\n",
    "                for graph_encoder_dim in graph_encoder_dims:\n",
    "                    try:\n",
    "                        print(hidden_channels)\n",
    "                        model = load_config_and_model_gcn(\n",
    "                            model_name=\"graph/gcn\",\n",
    "                            num_layers=num_layers,\n",
    "                            hidden_channels=hidden_channels,\n",
    "                            out_channels=out_channels,\n",
    "                            fc_dim=fc_dim,\n",
    "                            graph_encoder_dim=graph_encoder_dim,\n",
    "                        )\n",
    "                        total_params = sum(p.numel() for p in model.parameters())\n",
    "                        total_params_list_combined.append(total_params)\n",
    "                    except Exception as e:\n",
    "                        print(f\"⚠️ Skipped combo due to error: {e}\")\n",
    "                        continue\n",
    "\n",
    "# Summary\n",
    "print(\"Max number of parameters:\", max(total_params_list_combined))\n",
    "print(\"Min number of parameters:\", min(total_params_list_combined))\n",
    "print(\"Total configurations tested:\", len(total_params_list_combined))"
   ]
  },
  {
   "cell_type": "markdown",
   "metadata": {},
   "source": [
    "## MLP ##"
   ]
  },
  {
   "cell_type": "code",
   "execution_count": 90,
   "metadata": {},
   "outputs": [],
   "source": [
    "def load_readout_model(fc_dim, graph_encoder_dim, fc_act):\n",
    "    cfg = compose(\n",
    "        config_name=\"run.yaml\",\n",
    "        overrides=[\n",
    "            \"model=graph/mlp\",\n",
    "            \"dataset=graph/FTD\",\n",
    "            f\"model.readout.fc_dim={fc_dim}\",\n",
    "            f\"model.readout.graph_encoder_dim={graph_encoder_dim}\",\n",
    "            f\"model.readout.fc_act={fc_act}\",\n",
    "        ],\n",
    "        return_hydra_config=True,\n",
    "    )\n",
    "    model = hydra.utils.instantiate(\n",
    "        cfg.model,\n",
    "        evaluator=cfg.evaluator,\n",
    "        optimizer=cfg.optimizer,\n",
    "        loss=cfg.loss,\n",
    "    )\n",
    "    return model"
   ]
  },
  {
   "cell_type": "code",
   "execution_count": 91,
   "metadata": {},
   "outputs": [
    {
     "name": "stdout",
     "output_type": "stream",
     "text": [
      "Max number of parameters: 6022110\n",
      "Min number of parameters: 1950558\n",
      "Total configurations tested: 12\n"
     ]
    }
   ],
   "source": [
    "total_params_list_combined = []\n",
    "\n",
    "# Loop over all combos\n",
    "for fc_dim in readout_fc_dims:\n",
    "    for graph_encoder_dim in readout_graph_encoder_dims:\n",
    "        for fc_act in readout_fc_acts:\n",
    "            try:\n",
    "                model = load_readout_model(fc_dim, graph_encoder_dim, fc_act)\n",
    "                total_params = sum(p.numel() for p in model.parameters())\n",
    "                total_params_list_combined.append(total_params)\n",
    "            except Exception as e:\n",
    "                print(f\"⚠️ Skipped combo due to error: {e}\")\n",
    "                continue\n",
    "\n",
    "# Output results\n",
    "print(\"Max number of parameters:\", max(total_params_list_combined))\n",
    "print(\"Min number of parameters:\", min(total_params_list_combined))\n",
    "print(\"Total configurations tested:\", len(total_params_list_combined))"
   ]
  }
 ],
 "metadata": {
  "kernelspec": {
   "display_name": "proteo",
   "language": "python",
   "name": "python3"
  },
  "language_info": {
   "codemirror_mode": {
    "name": "ipython",
    "version": 3
   },
   "file_extension": ".py",
   "mimetype": "text/x-python",
   "name": "python",
   "nbconvert_exporter": "python",
   "pygments_lexer": "ipython3",
   "version": "3.11.10"
  }
 },
 "nbformat": 4,
 "nbformat_minor": 2
}
